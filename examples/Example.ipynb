{
 "cells": [
  {
   "cell_type": "markdown",
   "id": "13a25200",
   "metadata": {},
   "source": [
    "# `PointProcess` - Example Notebook"
   ]
  },
  {
   "cell_type": "markdown",
   "id": "45d096f1",
   "metadata": {},
   "source": [
    "Prerequisite:\n",
    "- Before running this notebook you should build the library by running the build.sh script.\n",
    "- Make sure that the shared library was created. (e.g. at path build/src/pointprocess.cpython-310-darwin.so)"
   ]
  },
  {
   "cell_type": "code",
   "execution_count": null,
   "id": "e55d93c3",
   "metadata": {},
   "outputs": [],
   "source": [
    "# Basic imports\n",
    "import sys\n",
    "import os\n",
    "import numpy as np\n",
    "import matplotlib.pyplot as plt"
   ]
  },
  {
   "cell_type": "code",
   "execution_count": null,
   "id": "332f83df",
   "metadata": {},
   "outputs": [],
   "source": [
    "\n",
    "# TODO: CHANGE HERE WITH THE PATH TO THE FOLDER CONTAINING YOUR .so (On MacOs and Linux) or .dll (Windows)\n",
    "PATH_TO_LIB = \"path/to/library/\" # \"build/src/\" \n",
    "# In my case the generated .so is build/src/pointprocess.cpython-310-darwin.so\n",
    "\n",
    "sys.path.append(PATH_TO_LIB)\n",
    "\n",
    "# Now we can import the Python byndings from the pointprocess library\n",
    "from pointprocess import (\n",
    "    compute_single_regression,\n",
    "    compute_full_regression,\n",
    "    compute_spectral_analysis,\n",
    "    Distributions,\n",
    "    Result,\n",
    "    RegressionResult,\n",
    "    get_ks_coords\n",
    ")"
   ]
  },
  {
   "cell_type": "code",
   "execution_count": null,
   "id": "e3923326",
   "metadata": {},
   "outputs": [],
   "source": [
    "# Example: load and plot a series of RR events\n",
    "rr = np.load(\"events.npy\")\n",
    "events = np.array(rr[75:301])\n",
    "plt.plot(events[1:], 1000*np.diff(events),\"b\")\n",
    "plt.xlabel('time [s]')\n",
    "plt.ylabel('RR [ms]')"
   ]
  },
  {
   "cell_type": "markdown",
   "id": "c0a3113d",
   "metadata": {},
   "source": [
    "## Single Regression"
   ]
  },
  {
   "cell_type": "code",
   "execution_count": null,
   "id": "3e8ec28c",
   "metadata": {},
   "outputs": [],
   "source": [
    "# Compute single regression on a subset of the RR intervals\n",
    "result_single_regression = compute_single_regression(\n",
    "    events = rr[75:301],\n",
    "    ar_order = 9,\n",
    "    has_theta0 = True,\n",
    "    right_censoring = False,\n",
    "    alpha = 0.02,\n",
    "    distribution=Distributions.InverseGaussian,\n",
    "    max_iter=10000\n",
    "    )\n",
    "\n",
    "print(\n",
    "    f\"Thetap:        {result_single_regression.thetap}\\n\"\n",
    "    f\"Theta0:        {result_single_regression.theta0}\\n\"\n",
    "    f\"Kappa:         {result_single_regression.kappa}\\n\"\n",
    "    f\"Likelihood:    {result_single_regression.likelihood}\\n\"\n",
    "    f\"Mean interval: {result_single_regression.mean_interval}\"\n",
    ")"
   ]
  },
  {
   "cell_type": "code",
   "execution_count": null,
   "id": "a0c2442a",
   "metadata": {},
   "outputs": [],
   "source": [
    "thetap = result_single_regression.thetap\n",
    "mean_interval = result_single_regression.mean_interval\n",
    "kappa = result_single_regression.kappa\n",
    "variance = result_single_regression.sigma**2\n",
    "\n",
    "\n",
    "# Retrieve spectral info\n",
    "analysis = compute_spectral_analysis(thetap, mean_interval, variance, aggregate=False)\n",
    "\n",
    "# Plot stuff\n",
    "plt.figure(figsize=(8,6),dpi=100)\n",
    "colors = []\n",
    "for comp in analysis.comps:\n",
    "    p = plt.plot(analysis.frequencies, np.real(comp),linewidth=0.7)\n",
    "    colors.append(p[-1].get_color())\n",
    "    \n",
    "for i in range(len(analysis.poles)):\n",
    "    plt.vlines(analysis.poles[i].frequency,0,10000,colors[i],\"--\")\n",
    "    \n",
    "plt.plot(analysis.frequencies, analysis.powers, \"k-\",linewidth=0.8,label=\"Total PSD\")\n",
    "plt.xlabel(\"f [Hz]\")\n",
    "plt.ylabel(\"PSD [$ms^2$/Hz]\")\n",
    "plt.legend()"
   ]
  },
  {
   "cell_type": "markdown",
   "id": "ec2a9ca7",
   "metadata": {},
   "source": [
    "## Full Regression"
   ]
  },
  {
   "cell_type": "code",
   "execution_count": null,
   "id": "f9ee9a07",
   "metadata": {},
   "outputs": [],
   "source": [
    "# Fit Inverse Gaussian distribution to RR by moving a 60.0 seconds windows and shifting it by 0.005 s at each step.\n",
    "# The mean of the ditribution will bi given by a 9th order AR model\n",
    "result = compute_full_regression(\n",
    "    events=rr,\n",
    "    window_length=60.0,\n",
    "    delta=0.005,\n",
    "    ar_order=9,\n",
    "    has_theta0=True,\n",
    "    right_censoring=True,\n",
    "    alpha = 0.02,\n",
    "    distribution=Distributions.InverseGaussian,\n",
    "    max_iter = 1000\n",
    ")\n",
    "\n",
    "# Compute spectral info\n",
    "result.compute_hrv_indices()\n",
    "\n",
    "# Convert result to dictionary...\n",
    "d = result.to_dict()"
   ]
  },
  {
   "cell_type": "code",
   "execution_count": null,
   "id": "49abd9af",
   "metadata": {},
   "outputs": [],
   "source": [
    "print(\"d is a dictionary that contains the following keys:\")\n",
    "for k in d:\n",
    "    print(f\"- {k}\")"
   ]
  },
  {
   "cell_type": "code",
   "execution_count": null,
   "id": "2531e337",
   "metadata": {},
   "outputs": [],
   "source": [
    "# Plot first moment of the distribution in time, along with the discrete RR intervals \n",
    "plt.figure(figsize=(6,4),dpi=120)\n",
    "plt.plot(d[\"Time\"],d[\"Mu\"],\"b\",linewidth=0.5,label=\"First moment of IG regression\")\n",
    "plt.xlabel(\"Time [s]\")\n",
    "plt.ylabel(\"$\\mu$ [s]\")\n",
    "plt.plot(rr[1:],np.diff(rr),\"r*\",mew=0.01,label=\"RR interval\")\n",
    "plt.legend()"
   ]
  },
  {
   "cell_type": "code",
   "execution_count": null,
   "id": "aca06669",
   "metadata": {},
   "outputs": [],
   "source": [
    "# Plot hazard rate\n",
    "plt.figure(figsize=(6,4),dpi=120)\n",
    "plt.plot(d[\"Time\"],d[\"lambda\"],\"firebrick\",linewidth=0.15,label=\"Hazard rate ($\\lambda$)\")\n",
    "plt.xlabel(\"Time [s]\")\n",
    "plt.ylabel(\"Hazard rate ($\\lambda$)\")\n",
    "plt.legend()\n",
    "\n",
    "# Same but just for a smaller number of samples...\n",
    "plt.figure(figsize=(6,4),dpi=120)\n",
    "s,e = 30200,31000\n",
    "plt.plot(d[\"Time\"][s:e],d[\"lambda\"][s:e],\"firebrick\",linewidth=0.5,label=\"Hazard rate ($\\lambda$)\")\n",
    "plt.xlabel(\"Time [s]\")\n",
    "plt.ylabel(\"Hazard rate ($\\lambda$)\")\n",
    "plt.legend()"
   ]
  },
  {
   "cell_type": "code",
   "execution_count": null,
   "id": "0633d585",
   "metadata": {},
   "outputs": [],
   "source": [
    "# Plot LF/HF ration\n",
    "plt.figure(figsize=(8,8))\n",
    "bal = d[\"powLF\"] / d[\"powHF\"]\n",
    "plt.plot(d[\"Time\"],bal,\"blue\",linewidth=0.5)\n",
    "plt.ylim(-1,20)\n",
    "plt.ylabel(\"LF/HF\")\n",
    "plt.xlabel(\"Time [s]\")"
   ]
  },
  {
   "cell_type": "code",
   "execution_count": null,
   "id": "fe28d112",
   "metadata": {},
   "outputs": [],
   "source": [
    "# Build KS plot to assess goodness of fit\n",
    "coords = get_ks_coords(result.taus)\n",
    "plt.figure(figsize=(5,5),dpi=100)\n",
    "plt.plot(coords.z, coords.inner, \"k\", linewidth=0.8)\n",
    "plt.plot(coords.lower, coords.inner, \"b\", linewidth=0.5)\n",
    "plt.plot(coords.upper, coords.inner, \"b\", linewidth=0.5)\n",
    "plt.plot(coords.inner, coords.inner, \"r\", linewidth=0.5)"
   ]
  }
 ],
 "metadata": {
  "codeCellConfig": {
   "rulers": [
    80
   ],
   "wordWrapColumn": 80
  },
  "kernelspec": {
   "display_name": "Python 3 (ipykernel)",
   "language": "python",
   "name": "python3"
  },
  "language_info": {
   "codemirror_mode": {
    "name": "ipython",
    "version": 3
   },
   "file_extension": ".py",
   "mimetype": "text/x-python",
   "name": "python",
   "nbconvert_exporter": "python",
   "pygments_lexer": "ipython3",
   "version": "3.10.6"
  }
 },
 "nbformat": 4,
 "nbformat_minor": 5
}
